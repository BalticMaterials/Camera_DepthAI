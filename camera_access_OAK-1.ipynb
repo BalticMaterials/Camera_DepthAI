{
 "cells": [
  {
   "cell_type": "markdown",
   "metadata": {},
   "source": [
    "# BalticMaterials GmbH\n",
    "## AI-Camera Luxonis OAK-1 access\n",
    "**Author:** Sven Nivera  \n",
    "**Date:** 07.08.2023  \n",
    "**Version:** 0.1.0  \n",
    "**Description:** This notebook contains an example on how to access the OAK-1 camera via USB using opencv."
   ]
  },
  {
   "cell_type": "code",
   "execution_count": 1,
   "metadata": {},
   "outputs": [],
   "source": [
    "import cv2\n",
    "import depthai as dai\n",
    "import numpy as np"
   ]
  },
  {
   "cell_type": "markdown",
   "metadata": {},
   "source": [
    "Every action regarding the camera system must be placed inside a pipeline. The camera is connected to an onboard chip with which the communication is made!"
   ]
  },
  {
   "cell_type": "code",
   "execution_count": 2,
   "metadata": {},
   "outputs": [],
   "source": [
    "pipeline = dai.Pipeline()"
   ]
  },
  {
   "cell_type": "markdown",
   "metadata": {},
   "source": [
    "The camera must be added to the stream and the resolution be set."
   ]
  },
  {
   "cell_type": "code",
   "execution_count": 3,
   "metadata": {},
   "outputs": [],
   "source": [
    "cam = pipeline.create(dai.node.ColorCamera) # add cam\n",
    "cam.setResolution(dai.ColorCameraProperties.SensorResolution.THE_1080_P) # set resolution"
   ]
  },
  {
   "cell_type": "markdown",
   "metadata": {},
   "source": [
    "Communication between host and device is hadled by XLink. To access data from the device to host XLinkOut must be used."
   ]
  },
  {
   "cell_type": "code",
   "execution_count": 4,
   "metadata": {},
   "outputs": [],
   "source": [
    "xout_rgb = pipeline.create(dai.node.XLinkOut)\n",
    "xout_rgb.setStreamName(\"rgb\")\n",
    "cam.preview.link(xout_rgb.input)"
   ]
  },
  {
   "cell_type": "markdown",
   "metadata": {},
   "source": [
    "Frames are received as one-dimensional arrays. A custom conversion function is needed to produce viewable 2D Images."
   ]
  },
  {
   "cell_type": "code",
   "execution_count": 5,
   "metadata": {},
   "outputs": [],
   "source": [
    "def frameNorm(frame, bbox):\n",
    "    normVals = np.full(len(bbox), frame.shape[0])\n",
    "    normVals[::2] = frame.shape[1]\n",
    "    return (np.clip(np.array(bbox), 0, 1) * normVals).astype(int)"
   ]
  },
  {
   "cell_type": "markdown",
   "metadata": {},
   "source": [
    "When initialized a frame can be grapped from the device once it is ready. An converted output is shown via opencv."
   ]
  },
  {
   "cell_type": "code",
   "execution_count": null,
   "metadata": {},
   "outputs": [],
   "source": [
    "with dai.Device(pipeline) as device: # initialize device via USB3\n",
    "    q_rgb = device.getOutputQueue(\"rgb\") # frame queue for host side filling up with frames from the cam\n",
    "    frame = None\n",
    "    i = 0\n",
    "    while True:\n",
    "        in_rgb = q_rgb.tryGet() # Consuming latest (or None) frame from queue\n",
    "        if in_rgb is not None:\n",
    "            frame = in_rgb.getCvFrame() # Receive frame \n",
    "            if frame is not None:\n",
    "                print(i)\n",
    "                i += 1\n",
    "                cv2.imshow(\"preview\", frame)\n",
    "                if cv2.waitKey(1) == ord('q'):\n",
    "                    break"
   ]
  }
 ],
 "metadata": {
  "kernelspec": {
   "display_name": ".venv",
   "language": "python",
   "name": "python3"
  },
  "language_info": {
   "codemirror_mode": {
    "name": "ipython",
    "version": 3
   },
   "file_extension": ".py",
   "mimetype": "text/x-python",
   "name": "python",
   "nbconvert_exporter": "python",
   "pygments_lexer": "ipython3",
   "version": "3.10.7"
  },
  "orig_nbformat": 4
 },
 "nbformat": 4,
 "nbformat_minor": 2
}
