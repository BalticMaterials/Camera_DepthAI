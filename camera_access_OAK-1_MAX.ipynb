{
 "cells": [
  {
   "cell_type": "markdown",
   "metadata": {},
   "source": [
    "# BalticMaterials GmbH\n",
    "## AI-Camera Luxonis OAK-1 MAX access\n",
    "**Author:** Sven Nivera  \n",
    "**Date:** 10.08.2023  \n",
    "**Version:** 0.1.0  \n",
    "**Description:** This notebook contains an example on how to access the OAK-1 MAX camera via USB using opencv and depthai."
   ]
  },
  {
   "cell_type": "code",
   "execution_count": 1,
   "metadata": {},
   "outputs": [],
   "source": [
    "import cv2\n",
    "import depthai as dai\n",
    "import numpy as np"
   ]
  },
  {
   "cell_type": "code",
   "execution_count": 2,
   "metadata": {},
   "outputs": [],
   "source": [
    "pipeline = dai.Pipeline()"
   ]
  },
  {
   "cell_type": "code",
   "execution_count": 3,
   "metadata": {},
   "outputs": [],
   "source": [
    "cam = pipeline.create(dai.node.ColorCamera) # add cam\n",
    "cam.setResolution(dai.ColorCameraProperties.SensorResolution.THE_5312X6000) # 32MP\n",
    "# cam.setNumFramesPool(2,2,1,1,1) usefull for minimizing RAM usage"
   ]
  },
  {
   "cell_type": "code",
   "execution_count": 4,
   "metadata": {},
   "outputs": [],
   "source": [
    "xout_rgb = pipeline.create(dai.node.XLinkOut)\n",
    "xout_rgb.setStreamName(\"rgb\")\n",
    "cam.preview.link(xout_rgb.input)"
   ]
  },
  {
   "cell_type": "code",
   "execution_count": 5,
   "metadata": {},
   "outputs": [],
   "source": [
    "def frameNorm(frame, bbox):\n",
    "    normVals = np.full(len(bbox), frame.shape[0])\n",
    "    normVals[::2] = frame.shape[1]\n",
    "    return (np.clip(np.array(bbox), 0, 1) * normVals).astype(int)"
   ]
  },
  {
   "cell_type": "markdown",
   "metadata": {},
   "source": [
    "Activation of logging is only usefull in a .py-excecution. There will be no output in a notebook."
   ]
  },
  {
   "cell_type": "code",
   "execution_count": null,
   "metadata": {},
   "outputs": [
    {
     "ename": "",
     "evalue": "",
     "output_type": "error",
     "traceback": [
      "\u001b[1;31mThe Kernel crashed while executing code in the the current cell or a previous cell. Please review the code in the cell(s) to identify a possible cause of the failure. Click <a href='https://aka.ms/vscodeJupyterKernelCrash'>here</a> for more info. View Jupyter <a href='command:jupyter.viewOutput'>log</a> for further details."
     ]
    }
   ],
   "source": [
    "with dai.Device(pipeline) as device: # initialize device via USB3\n",
    "    device.setLogLevel(dai.LogLevel.INFO)\n",
    "    device.setLogOutputLevel(dai.LogLevel.INFO)\n",
    "    q_rgb = device.getOutputQueue(\"rgb\") # frame queue for host side filling up with frames from the cam\n",
    "    frame = None\n",
    "    while True:\n",
    "        in_rgb = q_rgb.tryGet() # Consuming latest (or None) frame from queue\n",
    "        if in_rgb is not None:\n",
    "            frame = in_rgb.getCvFrame() # Receive frame \n",
    "            if frame is not None:\n",
    "                cv2.imshow(\"preview\", frame)\n",
    "                if cv2.waitKey(1) == ord('q'):\n",
    "                    break"
   ]
  }
 ],
 "metadata": {
  "kernelspec": {
   "display_name": ".venv",
   "language": "python",
   "name": "python3"
  },
  "language_info": {
   "codemirror_mode": {
    "name": "ipython",
    "version": 3
   },
   "file_extension": ".py",
   "mimetype": "text/x-python",
   "name": "python",
   "nbconvert_exporter": "python",
   "pygments_lexer": "ipython3",
   "version": "3.10.7"
  },
  "orig_nbformat": 4
 },
 "nbformat": 4,
 "nbformat_minor": 2
}
